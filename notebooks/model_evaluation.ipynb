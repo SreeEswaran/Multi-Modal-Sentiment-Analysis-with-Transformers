{
 "cells": [
  {
   "cell_type": "markdown",
   "metadata": {},
   "source": [
    "# Model Evaluation\n",
    "This notebook evaluates the combined text and image sentiment analysis model."
   ]
  },
  {
   "cell_type": "code",
   "execution_count": null,
   "metadata": {},
   "outputs": [],
   "source": [
    "from scripts.evaluate import evaluate_model\n",
    "\n",
    "# Evaluate the model\n",
    "evaluate_model('data/text_data/test.csv', 'data/image_data/test')"
   ]
  }
 ],
 "metadata": {
  "kernelspec": {
   "display_name": "Python 3",
   "language": "python",
   "name": "python3"
  },
  "
